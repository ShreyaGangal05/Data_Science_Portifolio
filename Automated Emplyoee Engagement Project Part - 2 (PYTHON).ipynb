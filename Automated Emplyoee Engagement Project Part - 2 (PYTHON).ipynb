{
 "cells": [
  {
   "cell_type": "markdown",
   "id": "2042cd4a-4cc2-48b5-9072-daa8f2ab37b3",
   "metadata": {},
   "source": [
    "#### Task 1"
   ]
  },
  {
   "cell_type": "code",
   "execution_count": 2,
   "id": "0ed2a292-5034-4a6b-ba3c-189014936000",
   "metadata": {},
   "outputs": [
    {
     "name": "stdout",
     "output_type": "stream",
     "text": [
      "Welcome to the Word Guessing Game!\n",
      "The secret word has 8 letters.\n"
     ]
    },
    {
     "name": "stdin",
     "output_type": "stream",
     "text": [
      "Attempt 1/5: Enter your guess:  project\n"
     ]
    },
    {
     "name": "stdout",
     "output_type": "stream",
     "text": [
      "Incorrect guess. Try again.\n",
      "Clue: e _ p _ o _ e e\n"
     ]
    },
    {
     "name": "stdin",
     "output_type": "stream",
     "text": [
      "Attempt 2/5: Enter your guess:  employee\n"
     ]
    },
    {
     "name": "stdout",
     "output_type": "stream",
     "text": [
      "Congratulations! You've guessed the word 'employee' correctly in 2 attempts.\n"
     ]
    }
   ],
   "source": [
    "import random\n",
    "\n",
    "def word_guessing_game(words):\n",
    "    secret_word = random.choice(words)\n",
    "    max_attempts = 5  \n",
    "    attempts = 0\n",
    "\n",
    "    print(\"Welcome to the Word Guessing Game!\")\n",
    "    print(f\"The secret word has {len(secret_word)} letters.\")\n",
    "    \n",
    "    while attempts < max_attempts:\n",
    "        guess = input(f\"Attempt {attempts + 1}/{max_attempts}: Enter your guess: \").strip().lower()\n",
    "        attempts += 1\n",
    "        \n",
    "        if guess == secret_word:\n",
    "            print(f\"Congratulations! You've guessed the word '{secret_word}' correctly in {attempts} attempts.\")\n",
    "            break\n",
    "        else:\n",
    "            print(\"Incorrect guess. Try again.\")\n",
    "            correct_chars = [c if c in guess else '_' for c in secret_word]\n",
    "            print(f\"Clue: {' '.join(correct_chars)}\")\n",
    "\n",
    "    if guess != secret_word:\n",
    "        print(f\"Sorry, you've used all your attempts. The secret word was '{secret_word}'.\")\n",
    "\n",
    "words_list = [\"python\", \"developer\", \"employee\", \"company\", \"project\"]\n",
    "\n",
    "word_guessing_game(words_list)"
   ]
  },
  {
   "cell_type": "markdown",
   "id": "2b61becf-803a-4eb1-aaae-b71ada504259",
   "metadata": {},
   "source": [
    "#### Task 2"
   ]
  },
  {
   "cell_type": "code",
   "execution_count": null,
   "id": "50fda355-5605-48f7-8bc4-5d6550f15b89",
   "metadata": {},
   "outputs": [
    {
     "name": "stdout",
     "output_type": "stream",
     "text": [
      "\n",
      "Welcome to the Game Menu!\n",
      "1. Play Riddle Puzzle\n",
      "2. Play Arithmetic Puzzle\n",
      "3. Play General Knowledge quiz game\n",
      "4. Play Rock-Paper-Scissor game with the computer\n",
      "5. Play Rock-Paper-Scissor game with a user\n",
      "6. Play Word-Guessing game with the computer\n",
      "\n",
      "Enter any option by typing a number between 1 and 6\n",
      "\n"
     ]
    },
    {
     "name": "stdin",
     "output_type": "stream",
     "text": [
      "Enter your choice:  5\n"
     ]
    },
    {
     "name": "stdout",
     "output_type": "stream",
     "text": [
      "Playing Rock-Paper-Scissor with a User...\n"
     ]
    }
   ],
   "source": [
    "import random\n",
    "\n",
    "class GameMenu:\n",
    "    \n",
    "    @staticmethod\n",
    "    def menu():\n",
    "        print(\"\\nWelcome to the Game Menu!\")\n",
    "        print(\"1. Play Riddle Puzzle\")\n",
    "        print(\"2. Play Arithmetic Puzzle\")\n",
    "        print(\"3. Play General Knowledge quiz game\")\n",
    "        print(\"4. Play Rock-Paper-Scissor game with the computer\")\n",
    "        print(\"5. Play Rock-Paper-Scissor game with a user\")\n",
    "        print(\"6. Play Word-Guessing game with the computer\")\n",
    "        print(\"\\nEnter any option by typing a number between 1 and 6\\n\")\n",
    "\n",
    "def play_riddle_puzzle():\n",
    "    print(\"Playing Riddle Puzzle...\")\n",
    "\n",
    "def play_arithmetic_puzzle():\n",
    "    print(\"Playing Arithmetic Puzzle...\")\n",
    "\n",
    "def play_general_knowledge_quiz():\n",
    "    print(\"Playing General Knowledge Quiz...\")\n",
    "\n",
    "def play_rock_paper_scissors_with_computer():\n",
    "    print(\"Playing Rock-Paper-Scissor with the Computer...\")\n",
    "\n",
    "def play_rock_paper_scissors_with_user():\n",
    "    print(\"Playing Rock-Paper-Scissor with a User...\")\n",
    "\n",
    "def play_word_guessing_game():\n",
    "    words_list = [\"python\", \"developer\", \"employee\", \"company\", \"project\"]\n",
    "    word_guessing_game(words_list)\n",
    "\n",
    "def word_guessing_game(words):\n",
    "    secret_word = random.choice(words)\n",
    "    max_attempts = 5\n",
    "    attempts = 0\n",
    "\n",
    "    print(f\"The secret word has {len(secret_word)} letters.\")\n",
    "    \n",
    "    while attempts < max_attempts:\n",
    "        guess = input(f\"Attempt {attempts + 1}/{max_attempts}: Enter your guess: \").strip().lower()\n",
    "        attempts += 1\n",
    "        \n",
    "        if guess == secret_word:\n",
    "            print(f\"Congratulations! You've guessed the word '{secret_word}' correctly in {attempts} attempts.\")\n",
    "            break\n",
    "        else:\n",
    "            print(\"Incorrect guess. Try again.\")\n",
    "            correct_chars = [c if c in guess else '_' for c in secret_word]\n",
    "            print(f\"Clue: {' '.join(correct_chars)}\")\n",
    "\n",
    "    if guess != secret_word:\n",
    "        print(f\"Sorry, you've used all your attempts. The secret word was '{secret_word}'.\")\n",
    "\n",
    "def main():\n",
    "    while True:\n",
    "        GameMenu.menu()\n",
    "        \n",
    "        try:\n",
    "            choice = int(input(\"Enter your choice: \"))\n",
    "            \n",
    "            if choice == 1:\n",
    "                play_riddle_puzzle()\n",
    "            elif choice == 2:\n",
    "                play_arithmetic_puzzle()\n",
    "            elif choice == 3:\n",
    "                play_general_knowledge_quiz()\n",
    "            elif choice == 4:\n",
    "                play_rock_paper_scissors_with_computer()\n",
    "            elif choice == 5:\n",
    "                play_rock_paper_scissors_with_user()\n",
    "            elif choice == 6:\n",
    "                play_word_guessing_game()\n",
    "            else:\n",
    "                print(\"You have entered the wrong option.\")\n",
    "                continue\n",
    "            \n",
    "            replay = input(\"\\nDo you want to play another game? (Y/y for Yes, N/n for No): \").strip().lower()\n",
    "            if replay != 'y':\n",
    "                print(\"Exiting the game menu. Goodbye!\")\n",
    "                break\n",
    "\n",
    "        except ValueError:\n",
    "            print(\"Invalid input. Please enter a number between 1 and 6.\")\n",
    "        except Exception as e:\n",
    "            print(f\"An error occurred: {e}\")\n",
    "\n",
    "if __name__ == \"__main__\":\n",
    "    main()"
   ]
  },
  {
   "cell_type": "code",
   "execution_count": null,
   "id": "5990f63e-01d6-4028-bf0c-ad53897cec7d",
   "metadata": {},
   "outputs": [],
   "source": []
  }
 ],
 "metadata": {
  "kernelspec": {
   "display_name": "Python 3 (ipykernel)",
   "language": "python",
   "name": "python3"
  },
  "language_info": {
   "codemirror_mode": {
    "name": "ipython",
    "version": 3
   },
   "file_extension": ".py",
   "mimetype": "text/x-python",
   "name": "python",
   "nbconvert_exporter": "python",
   "pygments_lexer": "ipython3",
   "version": "3.12.4"
  }
 },
 "nbformat": 4,
 "nbformat_minor": 5
}
