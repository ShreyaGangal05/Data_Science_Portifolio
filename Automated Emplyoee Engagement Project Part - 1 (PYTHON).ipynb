{
 "cells": [
  {
   "cell_type": "markdown",
   "id": "9d7a82e7-5826-457c-9fb1-440b1043bfae",
   "metadata": {},
   "source": [
    "#### Task 1"
   ]
  },
  {
   "cell_type": "code",
   "execution_count": 15,
   "id": "d89ad476-7c8a-4c39-9a23-2cbf81f48468",
   "metadata": {},
   "outputs": [
    {
     "name": "stdout",
     "output_type": "stream",
     "text": [
      "\n",
      "Riddle: What runs but never walks?\n"
     ]
    },
    {
     "name": "stdin",
     "output_type": "stream",
     "text": [
      "Your answer:  water\n"
     ]
    },
    {
     "name": "stdout",
     "output_type": "stream",
     "text": [
      "Correct!\n"
     ]
    },
    {
     "name": "stdin",
     "output_type": "stream",
     "text": [
      "Do you want to solve another riddle? (yes/no):  no\n"
     ]
    },
    {
     "name": "stdout",
     "output_type": "stream",
     "text": [
      "\n",
      "Game Over! You got 1 out of 1 riddles correct.\n",
      "Your score: 100.00%\n"
     ]
    }
   ],
   "source": [
    "import random\n",
    "\n",
    "riddles = {\n",
    "    \"What has keys but can't open locks?\": \"piano\",\n",
    "    \"What runs but never walks?\": \"water\",\n",
    "    \"What can travel around the world while staying in a corner?\": \"stamp\",\n",
    "    \"I speak without a mouth and hear without ears. I have no body, but I come alive with wind. What am I?\": \"echo\",\n",
    "    \"What has a heart that doesn’t beat?\": \"artichoke\"\n",
    "}\n",
    "\n",
    "def play_riddle_game():\n",
    "    correct_count = 0\n",
    "    total_riddles = 0\n",
    "\n",
    "    while True:\n",
    "        riddle, correct_answer = random.choice(list(riddles.items()))\n",
    "        \n",
    "        print(f\"\\nRiddle: {riddle}\")\n",
    "        user_answer = input(\"Your answer: \").strip().lower()\n",
    "\n",
    "        if user_answer == correct_answer.lower():\n",
    "            print(\"Correct!\")\n",
    "            correct_count += 1\n",
    "        else:\n",
    "            print(f\"Incorrect! The correct answer is: {correct_answer}\")\n",
    "        \n",
    "        total_riddles += 1\n",
    "\n",
    "        play_again = input(\"Do you want to solve another riddle? (yes/no): \").strip().lower()\n",
    "        if play_again != \"yes\":\n",
    "            break\n",
    "\n",
    "    score_percentage = (correct_count / total_riddles) * 100\n",
    "    print(f\"\\nGame Over! You got {correct_count} out of {total_riddles} riddles correct.\")\n",
    "    print(f\"Your score: {score_percentage:.2f}%\")\n",
    "\n",
    "play_riddle_game()"
   ]
  },
  {
   "cell_type": "markdown",
   "id": "26ae9bc0-b229-4ae8-83db-ad1bdc8688f7",
   "metadata": {},
   "source": [
    "#### Task 2"
   ]
  },
  {
   "cell_type": "code",
   "execution_count": 18,
   "id": "eb245586-96a9-44e1-b52e-a0f17b28afbd",
   "metadata": {},
   "outputs": [
    {
     "name": "stdout",
     "output_type": "stream",
     "text": [
      "\n",
      "Solve the following: 16 - 15 = ?\n"
     ]
    },
    {
     "name": "stdin",
     "output_type": "stream",
     "text": [
      "Your answer:  1\n"
     ]
    },
    {
     "name": "stdout",
     "output_type": "stream",
     "text": [
      "Correct!\n"
     ]
    },
    {
     "name": "stdin",
     "output_type": "stream",
     "text": [
      "Do you want to solve another puzzle? (yes/no):  yes\n"
     ]
    },
    {
     "name": "stdout",
     "output_type": "stream",
     "text": [
      "\n",
      "Solve the following: 7 * 4 = ?\n"
     ]
    },
    {
     "name": "stdin",
     "output_type": "stream",
     "text": [
      "Your answer:  21\n"
     ]
    },
    {
     "name": "stdout",
     "output_type": "stream",
     "text": [
      "Incorrect! The correct answer is: 28\n"
     ]
    },
    {
     "name": "stdin",
     "output_type": "stream",
     "text": [
      "Do you want to solve another puzzle? (yes/no):  no\n"
     ]
    },
    {
     "name": "stdout",
     "output_type": "stream",
     "text": [
      "\n",
      "Game Over! You got 1 out of 2 puzzles correct.\n",
      "Your score: 50.00%\n"
     ]
    }
   ],
   "source": [
    "import random\n",
    "\n",
    "def generate_puzzle():\n",
    "    num1 = random.randint(1, 20)\n",
    "    num2 = random.randint(1, 20)\n",
    "    operator = random.choice(['+', '-', '*', '/'])\n",
    "    \n",
    "    if operator == '/':\n",
    "        num2 = random.randint(1, min(num2, num1))  # Ensure num2 is between 1 and num1 to avoid division errors\n",
    "\n",
    "    return num1, num2, operator\n",
    "\n",
    "def evaluate_expression(num1, num2, operator):\n",
    "    if operator == '+':\n",
    "        return num1 + num2\n",
    "    elif operator == '-':\n",
    "        return num1 - num2\n",
    "    elif operator == '*':\n",
    "        return num1 * num2\n",
    "    elif operator == '/':\n",
    "        return num1 / num2\n",
    "\n",
    "def play_arithmetic_game():\n",
    "    correct_count = 0\n",
    "    total_puzzles = 0\n",
    "\n",
    "    while True:\n",
    "        num1, num2, operator = generate_puzzle()\n",
    "        correct_answer = evaluate_expression(num1, num2, operator)\n",
    "\n",
    "        print(f\"\\nSolve the following: {num1} {operator} {num2} = ?\")\n",
    "\n",
    "        while True:\n",
    "            try:\n",
    "                user_answer = float(input(\"Your answer: \").strip())\n",
    "                break  \n",
    "            except ValueError:\n",
    "                print(\"Invalid input. Please enter a numeric value.\")\n",
    "\n",
    "        if user_answer == correct_answer:\n",
    "            print(\"Correct!\")\n",
    "            correct_count += 1\n",
    "        else:\n",
    "            print(f\"Incorrect! The correct answer is: {correct_answer}\")\n",
    "        \n",
    "        total_puzzles += 1\n",
    "\n",
    "        play_again = input(\"Do you want to solve another puzzle? (yes/no): \").strip().lower()\n",
    "        if play_again != \"yes\":\n",
    "            break\n",
    "\n",
    "    if total_puzzles > 0:\n",
    "        score_percentage = (correct_count / total_puzzles) * 100\n",
    "    else:\n",
    "        score_percentage = 0\n",
    "    print(f\"\\nGame Over! You got {correct_count} out of {total_puzzles} puzzles correct.\")\n",
    "    print(f\"Your score: {score_percentage:.2f}%\")\n",
    "\n",
    "play_arithmetic_game()"
   ]
  },
  {
   "cell_type": "markdown",
   "id": "e6891389-2620-4fe3-8313-b180666b79e6",
   "metadata": {},
   "source": [
    "#### Task 3"
   ]
  },
  {
   "cell_type": "code",
   "execution_count": 30,
   "id": "f08ee0e9-3bb2-4019-b7d0-34789e98f0d6",
   "metadata": {},
   "outputs": [
    {
     "name": "stdout",
     "output_type": "stream",
     "text": [
      "Welcome to the General Knowledge Quiz Game!\n",
      "\n",
      "Choose your category from the following list:\n",
      "1. Science\n",
      "2. Mathematics\n",
      "3. Geography\n",
      "4. Others\n"
     ]
    },
    {
     "name": "stdin",
     "output_type": "stream",
     "text": [
      "Enter the number of your choice:  1\n"
     ]
    },
    {
     "name": "stdout",
     "output_type": "stream",
     "text": [
      "\n",
      "Question: What is the full name of the WWW?\n"
     ]
    },
    {
     "name": "stdin",
     "output_type": "stream",
     "text": [
      "Your answer:  world wide web\n"
     ]
    },
    {
     "name": "stdout",
     "output_type": "stream",
     "text": [
      "Correct!\n",
      "\n",
      "Question: Which gas do plants absorb during photosynthesis?\n"
     ]
    },
    {
     "name": "stdin",
     "output_type": "stream",
     "text": [
      "Your answer:  carbon dioxide\n"
     ]
    },
    {
     "name": "stdout",
     "output_type": "stream",
     "text": [
      "Correct!\n",
      "\n",
      "Question: How many bones are there in the adult human body?\n"
     ]
    },
    {
     "name": "stdin",
     "output_type": "stream",
     "text": [
      "Your answer:  206\n"
     ]
    },
    {
     "name": "stdout",
     "output_type": "stream",
     "text": [
      "Correct!\n",
      "\n",
      "Game Over! You got 3 out of 3 correct.\n",
      "Your score: 100.00%\n"
     ]
    },
    {
     "name": "stdin",
     "output_type": "stream",
     "text": [
      "\n",
      "Do you want to play again? (yes/no):  no\n"
     ]
    },
    {
     "name": "stdout",
     "output_type": "stream",
     "text": [
      "Thank you for playing!\n"
     ]
    }
   ],
   "source": [
    "import random\n",
    "\n",
    "science_questions = [\n",
    "    {\"question\": \"Which gas do plants absorb during photosynthesis?\", \"answer\": \"Carbon dioxide\"},\n",
    "    {\"question\": \"What is the full name of the WWW?\", \"answer\": \"World Wide Web\"},\n",
    "    {\"question\": \"How many bones are there in the adult human body?\", \"answer\": \"206\"}\n",
    "]\n",
    "\n",
    "mathematics_questions = [\n",
    "    {\"question\": \"What is the only even prime number?\", \"answer\": \"2\"},\n",
    "    {\"question\": \"What is the sum of the first 5 natural numbers?\", \"answer\": \"15\"},\n",
    "    {\"question\": \"What is the name of the mathematical symbol π?\", \"answer\": \"Pi\"}\n",
    "]\n",
    "\n",
    "geography_questions = [\n",
    "    {\"question\": \"What is the tallest mountain on Earth?\", \"answer\": \"Mount Everest\"},\n",
    "    {\"question\": \"What is the capital of France?\", \"answer\": \"Paris\"},\n",
    "    {\"question\": \"Which planet is known as the 'Red Planet'?\", \"answer\": \"Mars\"}\n",
    "]\n",
    "\n",
    "others_questions = [\n",
    "    {\"question\": \"Which country won the most recent FIFA World Cup (as of 2022)?\", \"answer\": \"Argentina\"},\n",
    "    {\"question\": \"Who invented the light bulb?\", \"answer\": \"Thomas Edison\"},\n",
    "    {\"question\": \"In what year did India declare itself a Democratic and Republic state with the adoption of the Constitution?\", \"answer\": \"1950\"}\n",
    "]\n",
    "\n",
    "def ask_category():\n",
    "    print(\"\\nChoose your category from the following list:\")\n",
    "    print(\"1. Science\")\n",
    "    print(\"2. Mathematics\")\n",
    "    print(\"3. Geography\")\n",
    "    print(\"4. Others\")\n",
    "    \n",
    "    while True:\n",
    "        try:\n",
    "            choice = int(input(\"Enter the number of your choice: \"))\n",
    "            if choice in [1, 2, 3, 4]:\n",
    "                return choice\n",
    "            else:\n",
    "                print(\"Invalid choice. Please enter a number between 1 and 4.\")\n",
    "        except ValueError:\n",
    "            print(\"Invalid input. Please enter a number.\")\n",
    "\n",
    "def ask_question(question):\n",
    "    print(f\"\\nQuestion: {question['question']}\")\n",
    "    return input(\"Your answer: \").strip()\n",
    "\n",
    "def check_answer(user_answer, correct_answer):\n",
    "    if user_answer.lower() == correct_answer.lower():\n",
    "        print(\"Correct!\")\n",
    "        return True\n",
    "    else:\n",
    "        print(f\"Incorrect! The correct answer is: {correct_answer}\")\n",
    "        return False\n",
    "\n",
    "def display_score(questions, score):\n",
    "    total_questions = len(questions)\n",
    "    if total_questions > 0:\n",
    "        percentage = (score / total_questions) * 100\n",
    "    else:\n",
    "        percentage = 0\n",
    "    print(f\"\\nGame Over! You got {score} out of {total_questions} correct.\")\n",
    "    print(f\"Your score: {percentage:.2f}%\")\n",
    "\n",
    "def exec_questions(questions):\n",
    "    score = 0\n",
    "    random.shuffle(questions)  \n",
    "    for q in questions:\n",
    "        user_answer = ask_question(q)\n",
    "        if check_answer(user_answer, q['answer']):\n",
    "            score += 1\n",
    "    display_score(questions, score)\n",
    "\n",
    "def play_game():\n",
    "    print(\"Welcome to the General Knowledge Quiz Game!\")\n",
    "    \n",
    "    while True:\n",
    "        category = ask_category()\n",
    "        if category == 1:\n",
    "            questions = science_questions\n",
    "        elif category == 2:\n",
    "            questions = mathematics_questions\n",
    "        elif category == 3:\n",
    "            questions = geography_questions\n",
    "        elif category == 4:\n",
    "            questions = others_questions\n",
    "        \n",
    "        exec_questions(questions)\n",
    "        \n",
    "        play_again = input(\"\\nDo you want to play again? (yes/no): \").strip().lower()\n",
    "        if play_again != \"yes\":\n",
    "            break\n",
    "\n",
    "    print(\"Thank you for playing!\")\n",
    "\n",
    "if __name__ == \"__main__\":\n",
    "    play_game()"
   ]
  },
  {
   "cell_type": "markdown",
   "id": "988dfeff-fa2d-43dd-b53e-fc88863daa9f",
   "metadata": {},
   "source": [
    "#### Task 4"
   ]
  },
  {
   "cell_type": "code",
   "execution_count": 22,
   "id": "ecdd727b-37c7-4ed8-aa47-7d5e06e78357",
   "metadata": {},
   "outputs": [
    {
     "name": "stdin",
     "output_type": "stream",
     "text": [
      "Enter rock, paper, or scissors:  paper\n"
     ]
    },
    {
     "name": "stdout",
     "output_type": "stream",
     "text": [
      "Computer chose: paper\n",
      "It's a tie!\n"
     ]
    },
    {
     "name": "stdin",
     "output_type": "stream",
     "text": [
      "Do you want to play again? (yes/no):  yes\n",
      "Enter rock, paper, or scissors:  rock\n"
     ]
    },
    {
     "name": "stdout",
     "output_type": "stream",
     "text": [
      "Computer chose: scissors\n",
      "You win!\n"
     ]
    },
    {
     "name": "stdin",
     "output_type": "stream",
     "text": [
      "Do you want to play again? (yes/no):  no\n"
     ]
    }
   ],
   "source": [
    "import random\n",
    "\n",
    "def get_computer_choice():\n",
    "    return random.choice(['rock', 'paper', 'scissors'])\n",
    "\n",
    "def determine_winner(player_choice, computer_choice):\n",
    "    if player_choice == computer_choice:\n",
    "        return \"It's a tie!\"\n",
    "    elif (player_choice == 'rock' and computer_choice == 'scissors') or \\\n",
    "         (player_choice == 'paper' and computer_choice == 'rock') or \\\n",
    "         (player_choice == 'scissors' and computer_choice == 'paper'):\n",
    "        return \"You win!\"\n",
    "    else:\n",
    "        return \"Computer wins!\"\n",
    "\n",
    "def play_rock_paper_scissors():\n",
    "    while True:\n",
    "        player_choice = input(\"Enter rock, paper, or scissors: \").strip().lower()\n",
    "        if player_choice not in ['rock', 'paper', 'scissors']:\n",
    "            print(\"Invalid choice. Please choose rock, paper, or scissors.\")\n",
    "            continue\n",
    "        \n",
    "        computer_choice = get_computer_choice()\n",
    "        print(f\"Computer chose: {computer_choice}\")\n",
    "        \n",
    "        result = determine_winner(player_choice, computer_choice)\n",
    "        print(result)\n",
    "        \n",
    "        play_again = input(\"Do you want to play again? (yes/no): \").strip().lower()\n",
    "        if play_again != \"yes\":\n",
    "            break\n",
    "\n",
    "play_rock_paper_scissors()"
   ]
  },
  {
   "cell_type": "markdown",
   "id": "40dff4fc-9fec-4239-ba8d-e41e8f069150",
   "metadata": {},
   "source": [
    "#### Task 5"
   ]
  },
  {
   "cell_type": "code",
   "execution_count": 25,
   "id": "840581a5-b71a-4a74-8c90-c4b184fe9135",
   "metadata": {},
   "outputs": [
    {
     "name": "stdout",
     "output_type": "stream",
     "text": [
      "Welcome to Rock-Paper-Scissors!\n"
     ]
    },
    {
     "name": "stdin",
     "output_type": "stream",
     "text": [
      "Hello user 1, enter your name:  sakshi\n",
      "Hello user 2, enter your name:  shreya\n",
      "sakshi, enter your choice (rock, paper, scissors):  paper\n",
      "shreya, enter your choice (rock, paper, scissors):  rock\n"
     ]
    },
    {
     "name": "stdout",
     "output_type": "stream",
     "text": [
      "sakshi chose paper\n",
      "shreya chose rock\n",
      "sakshi wins!\n"
     ]
    }
   ],
   "source": [
    "def get_choice(player_name):\n",
    "    while True:\n",
    "        choice = input(f\"{player_name}, enter your choice (rock, paper, scissors): \").strip().lower()\n",
    "        if choice in ['rock', 'paper', 'scissors']:\n",
    "            return choice\n",
    "        else:\n",
    "            print(\"Invalid choice. Please choose rock, paper, or scissors.\")\n",
    "\n",
    "def determine_winner(choice1, choice2, name1, name2):\n",
    "    if choice1 == choice2:\n",
    "        return \"It's a tie!\"\n",
    "    elif (choice1 == 'rock' and choice2 == 'scissors') or \\\n",
    "         (choice1 == 'paper' and choice2 == 'rock') or \\\n",
    "         (choice1 == 'scissors' and choice2 == 'paper'):\n",
    "        return f\"{name1} wins!\"\n",
    "    else:\n",
    "        return f\"{name2} wins!\"\n",
    "\n",
    "def main():\n",
    "    print(\"Welcome to Rock-Paper-Scissors!\")\n",
    "    \n",
    "    player1_name = input(\"Hello user 1, enter your name: \").strip()\n",
    "    player2_name = input(\"Hello user 2, enter your name: \").strip()\n",
    "    \n",
    "    player1_choice = get_choice(player1_name)\n",
    "    player2_choice = get_choice(player2_name)\n",
    "    \n",
    "    print(f\"{player1_name} chose {player1_choice}\")\n",
    "    print(f\"{player2_name} chose {player2_choice}\")\n",
    "    \n",
    "    result = determine_winner(player1_choice, player2_choice, player1_name, player2_name)\n",
    "    print(result)\n",
    "\n",
    "main()"
   ]
  },
  {
   "cell_type": "code",
   "execution_count": null,
   "id": "d792bac1-3717-4af4-aa9a-6dfc20f6adfa",
   "metadata": {},
   "outputs": [],
   "source": []
  }
 ],
 "metadata": {
  "kernelspec": {
   "display_name": "Python 3 (ipykernel)",
   "language": "python",
   "name": "python3"
  },
  "language_info": {
   "codemirror_mode": {
    "name": "ipython",
    "version": 3
   },
   "file_extension": ".py",
   "mimetype": "text/x-python",
   "name": "python",
   "nbconvert_exporter": "python",
   "pygments_lexer": "ipython3",
   "version": "3.12.4"
  }
 },
 "nbformat": 4,
 "nbformat_minor": 5
}
